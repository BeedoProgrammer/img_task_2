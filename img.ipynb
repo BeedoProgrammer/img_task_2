{
 "cells": [
  {
   "cell_type": "code",
   "execution_count": 4,
   "metadata": {},
   "outputs": [],
   "source": [
    "import cv2\n",
    "import matplotlib.pyplot as plt\n",
    "import numpy as np\n",
    "\n",
    "def get_sharpened_frame(frame):\n",
    "    blurred_frame = cv2.GaussianBlur(frame, (25, 25), 0)\n",
    "    frame_edges = cv2.subtract(frame, blurred_frame * 5)\n",
    "    sharpened_frame = cv2.add(frame, frame_edges)\n",
    "    return sharpened_frame\n",
    "\n",
    "def get_canny_frame(sharpened_frame):\n",
    "    gray_frame = cv2.cvtColor(sharpened_frame, cv2.COLOR_BGR2GRAY)\n",
    "    blurred_frame = cv2.GaussianBlur(gray_frame, (25, 25), 0)\n",
    "    canny_frame = cv2.Canny(blurred_frame, 20, 60)\n",
    "    return canny_frame\n",
    "\n",
    "def get_orange_regions(frame):\n",
    "    hsv_frame = cv2.cvtColor(frame, cv2.COLOR_BGR2HSV)\n",
    "    lower_orange = np.array([5, 150, 150])\n",
    "    upper_orange = np.array([15, 255, 255])\n",
    "    mask = cv2.inRange(hsv_frame, lower_orange, upper_orange)\n",
    "    orange_regions = cv2.bitwise_and(frame, frame, mask=mask)\n",
    "    return orange_regions\n",
    "\n",
    "\n",
    "video_capture = cv2.VideoCapture('video.mp4')\n",
    "\n",
    "while True:\n",
    "    ret, frame = video_capture.read()\n",
    "    \n",
    "    if not ret:\n",
    "        break\n",
    "\n",
    "    sharpened_frame = get_sharpened_frame(frame)\n",
    "\n",
    "    canny_frame = get_canny_frame(sharpened_frame)\n",
    "\n",
    "    orange_regions = get_orange_regions(frame)\n",
    "\n",
    "    plt.imshow(orange_regions)\n",
    "    plt.show()"
   ]
  }
 ],
 "metadata": {
  "kernelspec": {
   "display_name": "Python 3",
   "language": "python",
   "name": "python3"
  },
  "language_info": {
   "codemirror_mode": {
    "name": "ipython",
    "version": 3
   },
   "file_extension": ".py",
   "mimetype": "text/x-python",
   "name": "python",
   "nbconvert_exporter": "python",
   "pygments_lexer": "ipython3",
   "version": "3.11.5"
  }
 },
 "nbformat": 4,
 "nbformat_minor": 2
}
